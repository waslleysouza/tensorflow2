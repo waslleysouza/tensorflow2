{
 "cells": [
  {
   "cell_type": "code",
   "execution_count": 7,
   "metadata": {},
   "outputs": [
    {
     "name": "stdout",
     "output_type": "stream",
     "text": [
      "Collecting pillow\n",
      "  Using cached https://files.pythonhosted.org/packages/e6/37/fc5bde88462cf8a069e522dd6a0d259b69faba1326f0a3ce8b4e11d9f317/Pillow-6.0.0-cp36-cp36m-win_amd64.whl\n",
      "Collecting scipy\n",
      "  Using cached https://files.pythonhosted.org/packages/b9/a2/62f77d2d3c42364d45ba714b4bdf7e1c4dfa67091dc9f614fa5a948b4fb4/scipy-1.2.1-cp36-cp36m-win_amd64.whl\n",
      "Requirement already satisfied: numpy>=1.8.2 in d:\\oracle\\apps\\anaconda3\\envs\\tf2\\lib\\site-packages (from scipy) (1.16.2)\n",
      "Installing collected packages: pillow, scipy\n",
      "Successfully installed pillow-6.0.0 scipy-1.2.1\n"
     ]
    }
   ],
   "source": [
    "!pip install pillow scipy"
   ]
  },
  {
   "cell_type": "code",
   "execution_count": 1,
   "metadata": {},
   "outputs": [],
   "source": [
    "import tensorflow as tf\n",
    "from tensorflow.keras import datasets, layers, models\n",
    "from tensorflow.keras.preprocessing.image import ImageDataGenerator\n",
    "import os, shutil"
   ]
  },
  {
   "cell_type": "code",
   "execution_count": 2,
   "metadata": {},
   "outputs": [],
   "source": [
    "base_dir = 'datasets\\\\dogs-vs-cats'\n",
    "\n",
    "original_dir = os.path.join(base_dir, 'original')\n",
    "original_train_dir = os.path.join(original_dir, 'train')\n",
    "\n",
    "train_dir = os.path.join(base_dir, 'train')\n",
    "validation_dir = os.path.join(base_dir, 'validation')\n",
    "#test_dir = os.path.join(base_dir, 'test')\n",
    "\n",
    "cats_train_dir = os.path.join(train_dir, 'cats')\n",
    "cats_validation_dir = os.path.join(validation_dir, 'cats')\n",
    "#cats_test_dir = os.path.join(test_dir, 'cats')\n",
    "\n",
    "dogs_train_dir = os.path.join(train_dir, 'dogs')\n",
    "dogs_validation_dir = os.path.join(validation_dir, 'dogs')\n",
    "#dogs_test_dir = os.path.join(test_dir, 'dogs')"
   ]
  },
  {
   "cell_type": "code",
   "execution_count": 9,
   "metadata": {},
   "outputs": [],
   "source": [
    "for d in [train_dir, validation_dir, #test_dir, \n",
    "          cats_train_dir, cats_validation_dir, #cats_test_dir, \n",
    "          dogs_train_dir, dogs_validation_dir, #dogs_test_dir\n",
    "         ]:\n",
    "    if not os.path.exists(d):\n",
    "        os.makedirs(d)"
   ]
  },
  {
   "cell_type": "code",
   "execution_count": 10,
   "metadata": {},
   "outputs": [],
   "source": [
    "def copy_images_to_folder(filename_pattern, start_range, stop_range, src_dir, dst_dir):\n",
    "    filenames = [filename_pattern.format(i) for i in range(start_range, stop_range)]\n",
    "    for filename in filenames:\n",
    "        src = os.path.join(src_dir, filename)\n",
    "        dst = os.path.join(dst_dir, filename)\n",
    "        shutil.copyfile(src, dst)\n",
    "        \n",
    "copy_images_to_folder('cat.{}.jpg', 0, 10000, original_train_dir, cats_train_dir)\n",
    "copy_images_to_folder('cat.{}.jpg', 10000, 12500, original_train_dir, cats_validation_dir)\n",
    "\n",
    "copy_images_to_folder('dog.{}.jpg', 0, 10000, original_train_dir, dogs_train_dir)\n",
    "copy_images_to_folder('dog.{}.jpg', 10000, 12500, original_train_dir, dogs_validation_dir)"
   ]
  },
  {
   "cell_type": "code",
   "execution_count": 3,
   "metadata": {},
   "outputs": [
    {
     "name": "stdout",
     "output_type": "stream",
     "text": [
      "Found 20000 images belonging to 2 classes.\n",
      "Found 5000 images belonging to 2 classes.\n"
     ]
    }
   ],
   "source": [
    "batch_size = 20\n",
    "\n",
    "train_datagen = ImageDataGenerator(rescale=1./255)\n",
    "validation_datagen = ImageDataGenerator(rescale=1./255)\n",
    "#test_datagen = ImageDataGenerator(rescale=1./255)\n",
    "\n",
    "train_generator = train_datagen.flow_from_directory(train_dir, target_size=(50,50), \n",
    "                                                    batch_size=batch_size, class_mode='binary')\n",
    "validation_generator = validation_datagen.flow_from_directory(validation_dir, target_size=(50,50),\n",
    "                                                              batch_size=batch_size, class_mode='binary')\n",
    "#test_generator = test_datagen.flow_from_directory(test_dir, target_size=(50,50),\n",
    "#                                                  batch_size=batch_size, class_mode='binary')"
   ]
  },
  {
   "cell_type": "code",
   "execution_count": 4,
   "metadata": {},
   "outputs": [
    {
     "name": "stdout",
     "output_type": "stream",
     "text": [
      "Model: \"model\"\n",
      "_________________________________________________________________\n",
      "Layer (type)                 Output Shape              Param #   \n",
      "=================================================================\n",
      "input_1 (InputLayer)         [(None, 50, 50, 3)]       0         \n",
      "_________________________________________________________________\n",
      "conv2d (Conv2D)              (None, 48, 48, 32)        896       \n",
      "_________________________________________________________________\n",
      "max_pooling2d (MaxPooling2D) (None, 24, 24, 32)        0         \n",
      "_________________________________________________________________\n",
      "conv2d_1 (Conv2D)            (None, 22, 22, 64)        18496     \n",
      "_________________________________________________________________\n",
      "max_pooling2d_1 (MaxPooling2 (None, 11, 11, 64)        0         \n",
      "_________________________________________________________________\n",
      "conv2d_2 (Conv2D)            (None, 9, 9, 128)         73856     \n",
      "_________________________________________________________________\n",
      "max_pooling2d_2 (MaxPooling2 (None, 4, 4, 128)         0         \n",
      "_________________________________________________________________\n",
      "conv2d_3 (Conv2D)            (None, 2, 2, 128)         147584    \n",
      "_________________________________________________________________\n",
      "max_pooling2d_3 (MaxPooling2 (None, 1, 1, 128)         0         \n",
      "_________________________________________________________________\n",
      "flatten (Flatten)            (None, 128)               0         \n",
      "_________________________________________________________________\n",
      "dense (Dense)                (None, 512)               66048     \n",
      "_________________________________________________________________\n",
      "dense_1 (Dense)              (None, 1)                 513       \n",
      "=================================================================\n",
      "Total params: 307,393\n",
      "Trainable params: 307,393\n",
      "Non-trainable params: 0\n",
      "_________________________________________________________________\n"
     ]
    }
   ],
   "source": [
    "inputs = tf.keras.Input(shape=(50,50,3))\n",
    "x = layers.Conv2D(32, (3,3), activation=tf.nn.relu)(inputs)\n",
    "x = layers.MaxPooling2D((2,2))(x)\n",
    "x = layers.Conv2D(64, (3,3), activation=tf.nn.relu)(x)\n",
    "x = layers.MaxPooling2D((2,2))(x)\n",
    "x = layers.Conv2D(128, (3,3), activation=tf.nn.relu)(x)\n",
    "x = layers.MaxPooling2D((2,2))(x)\n",
    "x = layers.Conv2D(128, (3,3), activation=tf.nn.relu)(x)\n",
    "x = layers.MaxPooling2D((2,2))(x)\n",
    "x = layers.Flatten()(x)\n",
    "x = layers.Dense(512, activation=tf.nn.relu)(x)\n",
    "outputs = layers.Dense(1, activation=tf.nn.sigmoid)(x)\n",
    "model = tf.keras.Model(inputs, outputs)\n",
    "model.summary()"
   ]
  },
  {
   "cell_type": "code",
   "execution_count": 5,
   "metadata": {},
   "outputs": [],
   "source": [
    "model.compile(optimizer='adam', loss='binary_crossentropy', metrics=['accuracy'])"
   ]
  },
  {
   "cell_type": "code",
   "execution_count": 6,
   "metadata": {},
   "outputs": [
    {
     "name": "stdout",
     "output_type": "stream",
     "text": [
      "Epoch 1/10\n",
      "1000/1000 [==============================] - 124s 124ms/step - loss: 0.6582 - accuracy: 0.5967 - val_loss: 0.6106 - val_accuracy: 0.6508\n",
      "Epoch 2/10\n",
      "1000/1000 [==============================] - 141s 141ms/step - loss: 0.5312 - accuracy: 0.7351 - val_loss: 0.4815 - val_accuracy: 0.7614: 7s - los\n",
      "Epoch 3/10\n",
      "1000/1000 [==============================] - 148s 148ms/step - loss: 0.4523 - accuracy: 0.7875 - val_loss: 0.4706 - val_accuracy: 0.7870 20s - loss: 0.4569 - acc - ETA: 19s - ETA: 6s - l - ETA - ETA: 1s - loss: 0.4525 - accuracy: 0.78 - ETA: 1s - loss:\n",
      "Epoch 4/10\n",
      "1000/1000 [==============================] - 142s 142ms/step - loss: 0.3952 - accuracy: 0.8186 - val_loss: 0.4223 - val_accuracy: 0.8066\n",
      "Epoch 5/10\n",
      "1000/1000 [==============================] - 141s 141ms/step - loss: 0.3446 - accuracy: 0.8479 - val_loss: 0.3985 - val_accuracy: 0.8200\n",
      "Epoch 6/10\n",
      "1000/1000 [==============================] - 147s 147ms/step - loss: 0.3015 - accuracy: 0.8698 - val_loss: 0.3794 - val_accuracy: 0.8298\n",
      "Epoch 7/10\n",
      "1000/1000 [==============================] - 153s 153ms/step - loss: 0.2629 - accuracy: 0.8881 - val_loss: 0.4080 - val_accuracy: 0.8208 - loss: 0.2629 - accuracy\n",
      "Epoch 8/10\n",
      "1000/1000 [==============================] - 134s 134ms/step - loss: 0.2258 - accuracy: 0.9043 - val_loss: 0.4318 - val_accuracy: 0.8276\n",
      "Epoch 9/10\n",
      "1000/1000 [==============================] - 133s 133ms/step - loss: 0.1879 - accuracy: 0.9226 - val_loss: 0.4441 - val_accuracy: 0.8198\n",
      "Epoch 10/10\n",
      "1000/1000 [==============================] - 136s 136ms/step - loss: 0.1602 - accuracy: 0.9347 - val_loss: 0.5188 - val_accuracy: 0.8178\n"
     ]
    },
    {
     "data": {
      "text/plain": [
       "<tensorflow.python.keras.callbacks.History at 0x175b6b089b0>"
      ]
     },
     "execution_count": 6,
     "metadata": {},
     "output_type": "execute_result"
    }
   ],
   "source": [
    "model.fit_generator(train_generator, \n",
    "                    steps_per_epoch=20000/batch_size, \n",
    "                    epochs=10, \n",
    "                    validation_data=validation_generator, \n",
    "                    validation_steps=5000/batch_size)"
   ]
  },
  {
   "cell_type": "code",
   "execution_count": null,
   "metadata": {},
   "outputs": [],
   "source": []
  }
 ],
 "metadata": {
  "kernelspec": {
   "display_name": "Python [conda env:tf2]",
   "language": "python",
   "name": "conda-env-tf2-py"
  },
  "language_info": {
   "codemirror_mode": {
    "name": "ipython",
    "version": 3
   },
   "file_extension": ".py",
   "mimetype": "text/x-python",
   "name": "python",
   "nbconvert_exporter": "python",
   "pygments_lexer": "ipython3",
   "version": "3.6.8"
  }
 },
 "nbformat": 4,
 "nbformat_minor": 2
}
